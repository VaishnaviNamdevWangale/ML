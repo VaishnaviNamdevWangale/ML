{
 "cells": [
  {
   "cell_type": "code",
   "execution_count": 5,
   "id": "97355aae-97ca-49c4-86f6-c78e536076ba",
   "metadata": {},
   "outputs": [
    {
     "name": "stdout",
     "output_type": "stream",
     "text": [
      "Hello\n"
     ]
    }
   ],
   "source": [
    "print(\"Hello\")"
   ]
  },
  {
   "cell_type": "code",
   "execution_count": 6,
   "id": "b7f9dc6b-1d38-41d1-89cd-75d0b431daec",
   "metadata": {},
   "outputs": [
    {
     "ename": "SyntaxError",
     "evalue": "invalid syntax (1852718806.py, line 2)",
     "output_type": "error",
     "traceback": [
      "\u001b[1;36m  Cell \u001b[1;32mIn[6], line 2\u001b[1;36m\u001b[0m\n\u001b[1;33m    pip install numpy\u001b[0m\n\u001b[1;37m        ^\u001b[0m\n\u001b[1;31mSyntaxError\u001b[0m\u001b[1;31m:\u001b[0m invalid syntax\n"
     ]
    }
   ],
   "source": [
    "#install numpy\n",
    "pip install numpy"
   ]
  },
  {
   "cell_type": "code",
   "execution_count": 8,
   "id": "ff1f38a8-5e97-4eb9-94ad-08d972c80298",
   "metadata": {},
   "outputs": [],
   "source": [
    "#importing numpy\n",
    "import numpy as np"
   ]
  },
  {
   "cell_type": "code",
   "execution_count": 9,
   "id": "ea5cc041-9cb7-4906-b80c-30ddfcc34d7c",
   "metadata": {},
   "outputs": [
    {
     "name": "stdout",
     "output_type": "stream",
     "text": [
      "[11, 22, 33, 44, 55]\n"
     ]
    }
   ],
   "source": [
    "list=[11,22,33,44,55]\n",
    "print(list)"
   ]
  },
  {
   "cell_type": "code",
   "execution_count": 10,
   "id": "32ef5538-93dc-4587-938c-ebc044f6a94d",
   "metadata": {},
   "outputs": [
    {
     "name": "stdout",
     "output_type": "stream",
     "text": [
      "[1 2 3 4 5]\n"
     ]
    }
   ],
   "source": [
    "arr=np.array([1,2,3,4,5])\n",
    "print(arr)"
   ]
  },
  {
   "cell_type": "code",
   "execution_count": 11,
   "id": "24270971-61ce-4d2e-92d0-a480b0994487",
   "metadata": {},
   "outputs": [
    {
     "name": "stdout",
     "output_type": "stream",
     "text": [
      "1.26.4\n"
     ]
    }
   ],
   "source": [
    "#checking version of numpy\n",
    "import numpy as np\n",
    "print(np.__version__)"
   ]
  },
  {
   "cell_type": "code",
   "execution_count": 12,
   "id": "c7256147-71c2-463f-9ae9-217f79e29056",
   "metadata": {},
   "outputs": [
    {
     "name": "stdout",
     "output_type": "stream",
     "text": [
      "[1 2 3 4 5 6]\n",
      "<class 'numpy.ndarray'>\n"
     ]
    }
   ],
   "source": [
    "#check type of array\n",
    "arr=np.array([1,2,3,4,5,6])\n",
    "print(arr)\n",
    "print(type(arr))"
   ]
  },
  {
   "cell_type": "code",
   "execution_count": 13,
   "id": "bbde9044-f8aa-4388-9a72-942c8a6c7466",
   "metadata": {},
   "outputs": [
    {
     "name": "stdout",
     "output_type": "stream",
     "text": [
      "[1, 2, 3, 4, 5, 6, 7]\n",
      "<class 'list'>\n"
     ]
    }
   ],
   "source": [
    "#use tuple to create numpy array\n",
    "arr2=([1,2,3,4,5,6,7])\n",
    "print(arr2)\n",
    "print(type(arr2))"
   ]
  },
  {
   "cell_type": "markdown",
   "id": "721db855-b1ce-4c99-be17-4e8af92ddffa",
   "metadata": {},
   "source": [
    "#multidimentional array"
   ]
  },
  {
   "cell_type": "code",
   "execution_count": 14,
   "id": "3b12d051-fa38-429c-b4e0-57ce8ae9c0ed",
   "metadata": {},
   "outputs": [
    {
     "name": "stdout",
     "output_type": "stream",
     "text": [
      "[34]\n"
     ]
    }
   ],
   "source": [
    "# zero dimentional array\n",
    "arr=np.array([34])\n",
    "print(arr)"
   ]
  },
  {
   "cell_type": "code",
   "execution_count": 15,
   "id": "bd82fffa-23e0-4d63-998d-50b7c3b86c4b",
   "metadata": {},
   "outputs": [
    {
     "name": "stdout",
     "output_type": "stream",
     "text": [
      "[11 12 13 14 15]\n"
     ]
    }
   ],
   "source": [
    "#one dimentional array\n",
    "arr1=np.array([11,12,13,14,15])\n",
    "print(arr1)"
   ]
  },
  {
   "cell_type": "code",
   "execution_count": 16,
   "id": "5a0ff64e-3fd5-489f-9f27-b4523ab2174f",
   "metadata": {},
   "outputs": [
    {
     "name": "stdout",
     "output_type": "stream",
     "text": [
      "[[11 12 13 14]\n",
      " [21 22 23 24]]\n"
     ]
    }
   ],
   "source": [
    "#two dimentional array\n",
    "arr2=np.array([[11,12,13,14],\n",
    "       [21,22,23,24]])\n",
    "print(arr2)"
   ]
  },
  {
   "cell_type": "code",
   "execution_count": 34,
   "id": "ad3ce8e8-36c4-407f-ac0d-acdcca8c2305",
   "metadata": {},
   "outputs": [
    {
     "name": "stdout",
     "output_type": "stream",
     "text": [
      "[[[11 12 13 14]\n",
      "  [21 22 23 24]]\n",
      "\n",
      " [[31 32 33 34]\n",
      "  [41 42 43 44]]\n",
      "\n",
      " [[11 12 13 14]\n",
      "  [21 22 23 24]]]\n"
     ]
    }
   ],
   "source": [
    "#three dimentional array\n",
    "arr3=np.array([[[11,12,13,14],[21,22,23,24]],[[31,32,33,34,],[41,42,43,44]],[[11,12,13,14],[21,22,23,24]]])\n",
    "print(arr3)"
   ]
  },
  {
   "cell_type": "code",
   "execution_count": 26,
   "id": "16197c7a-520a-4267-9aec-7e4da904a60a",
   "metadata": {},
   "outputs": [
    {
     "name": "stdout",
     "output_type": "stream",
     "text": [
      "3\n"
     ]
    }
   ],
   "source": [
    "#To check number of dimentions\n",
    "print(arr3.ndim)"
   ]
  },
  {
   "cell_type": "code",
   "execution_count": 21,
   "id": "f6743a20-fbff-4a63-bc18-8af2eef3f252",
   "metadata": {},
   "outputs": [
    {
     "name": "stdout",
     "output_type": "stream",
     "text": [
      "60\n"
     ]
    }
   ],
   "source": [
    "#Accessing elements\n",
    "arr=np.array([20,30,40,50,60])\n",
    "print(arr[4])"
   ]
  },
  {
   "cell_type": "code",
   "execution_count": 41,
   "id": "6b8f178f-889b-428c-af15-221795dc92ea",
   "metadata": {},
   "outputs": [
    {
     "name": "stdout",
     "output_type": "stream",
     "text": [
      "2nd element on 1st row: 7\n"
     ]
    }
   ],
   "source": [
    "#Acccessing 2D array \n",
    "arr7=np.array([[1,2,3,4,5],[6,7,8,9,10]])\n",
    "print('2nd element on 1st row:',arr7[1,1])"
   ]
  },
  {
   "cell_type": "code",
   "execution_count": 46,
   "id": "e7d94a0d-7915-4cce-b3ce-ec900be13221",
   "metadata": {},
   "outputs": [
    {
     "name": "stdout",
     "output_type": "stream",
     "text": [
      "2nd element on 1st row: 4\n"
     ]
    }
   ],
   "source": [
    "#Accesssing 2D array with -ve indexing\n",
    "print('2nd element on 1st row:',arr7[0,-2])\n"
   ]
  },
  {
   "cell_type": "code",
   "execution_count": 57,
   "id": "4340530c-a14e-4be8-93b1-5ba5689d4707",
   "metadata": {},
   "outputs": [
    {
     "name": "stdout",
     "output_type": "stream",
     "text": [
      "[1 2 3 4 5]\n",
      "[1 3 5 7 9]\n",
      "[ 2  4  6  8 10]\n"
     ]
    }
   ],
   "source": [
    "#Acccesssing element using slicing\n",
    "arr=np.array([1,2,3,4,5,6,7,8,9,10])\n",
    "print(arr[0:5])\n",
    "print(arr[0:11:2])\n",
    "print(arr[1:11:2])"
   ]
  },
  {
   "cell_type": "code",
   "execution_count": 68,
   "id": "6c993f99-d7d7-479d-9529-05d18f460c11",
   "metadata": {},
   "outputs": [
    {
     "name": "stdout",
     "output_type": "stream",
     "text": [
      "[6 7 8]\n",
      "[6 8]\n"
     ]
    }
   ],
   "source": [
    "#Acccesssing element using -ve slicing\n",
    "arr=np.array([1,2,3,4,5,6,7,8,9])\n",
    "print(arr[-4:-1])\n",
    "print(arr[5:10:2])"
   ]
  },
  {
   "cell_type": "code",
   "execution_count": 83,
   "id": "d7b8f563-d68d-4585-ae84-eda96838777d",
   "metadata": {},
   "outputs": [
    {
     "name": "stdout",
     "output_type": "stream",
     "text": [
      "float64\n"
     ]
    }
   ],
   "source": [
    "#checking the data type of an array\n",
    "arr=np.array([1,2,3,4,5.1,7.2])\n",
    "print(arr.dtype)"
   ]
  },
  {
   "cell_type": "code",
   "execution_count": 82,
   "id": "3d8b027a-d65d-423b-9c7b-33c7ac0d44ac",
   "metadata": {},
   "outputs": [
    {
     "name": "stdout",
     "output_type": "stream",
     "text": [
      "[1 2 3 4 5 6 7 8]\n"
     ]
    }
   ],
   "source": [
    "#Conversion of datatype\n",
    "arr=np.array([1,2,3,4.8,5.1,6.5,7,8])\n",
    "print(arr.astype(int))"
   ]
  },
  {
   "cell_type": "code",
   "execution_count": 86,
   "id": "37abf7b9-3a35-4fc5-b145-3caaeab6e7db",
   "metadata": {},
   "outputs": [
    {
     "name": "stdout",
     "output_type": "stream",
     "text": [
      "(2, 5)\n",
      "10\n"
     ]
    }
   ],
   "source": [
    "#check shape of array\n",
    "arr=np.array([[1,2,3,4,4],[5,6,7,8,9]])\n",
    "print(arr.shape)\n",
    "print(arr.size)"
   ]
  },
  {
   "cell_type": "code",
   "execution_count": 97,
   "id": "cab7ff08-233b-4d1d-bab0-67cdef1a7641",
   "metadata": {},
   "outputs": [
    {
     "name": "stdout",
     "output_type": "stream",
     "text": [
      "[[ 1  2  3]\n",
      " [ 4  5  6]\n",
      " [ 7  8  9]\n",
      " [10 11 12]]\n"
     ]
    }
   ],
   "source": [
    "#Reshaping array\n",
    "arr=np.array([1,2,3,4,5,6,7,8,9,10,11,12])\n",
    "newarr=arr.reshape(4,3)\n",
    "print(newarr)"
   ]
  },
  {
   "cell_type": "code",
   "execution_count": 98,
   "id": "638a8f9c-3790-4261-955b-362ea6e292d3",
   "metadata": {},
   "outputs": [
    {
     "name": "stdout",
     "output_type": "stream",
     "text": [
      "1\n",
      "2\n",
      "3\n",
      "4\n"
     ]
    }
   ],
   "source": [
    "#Numpy array iterating\n",
    "arr=np.array([1,2,3,4])\n",
    "for i in arr:\n",
    "    print(i)"
   ]
  },
  {
   "cell_type": "code",
   "execution_count": 104,
   "id": "2bd2d86e-7ff5-42f6-a9b9-61d21fe13ee1",
   "metadata": {},
   "outputs": [
    {
     "name": "stdout",
     "output_type": "stream",
     "text": [
      "[1 1 1 2 2 2 2]\n"
     ]
    }
   ],
   "source": [
    "#Numpy array joining\n",
    "arr1=np.array([1,1,1])\n",
    "arr2=np.array([2,2,2,2])\n",
    "newarr=np.concatenate((arr1,arr2))\n",
    "print(newarr)"
   ]
  },
  {
   "cell_type": "code",
   "execution_count": 108,
   "id": "947b936d-a8ef-48b8-8ac7-9953cba71fcf",
   "metadata": {},
   "outputs": [
    {
     "name": "stdout",
     "output_type": "stream",
     "text": [
      "[array([1, 2]), array([3, 4]), array([5, 6]), array([7, 8])]\n"
     ]
    }
   ],
   "source": [
    "#Numpy splitting array\n",
    "arr=np.array([1,2,3,4,5,6,7,8])\n",
    "newarr=np.array_split(arr,4)\n",
    "print(newarr)"
   ]
  },
  {
   "cell_type": "code",
   "execution_count": 110,
   "id": "8caff190-09a4-4270-9adf-c7196e36ea95",
   "metadata": {},
   "outputs": [
    {
     "name": "stdout",
     "output_type": "stream",
     "text": [
      "[False False False False False False  True]\n"
     ]
    }
   ],
   "source": [
    "#Numpy searching array\n",
    "arr=np.array([1,2,3,4,5,6,7])\n",
    "x=np.array(arr==7)\n",
    "print(x)"
   ]
  },
  {
   "cell_type": "code",
   "execution_count": 124,
   "id": "b15b6706-fdc2-44e8-8a2a-1ba74ae39103",
   "metadata": {},
   "outputs": [
    {
     "name": "stdout",
     "output_type": "stream",
     "text": [
      "[0 1 2 3 3 4 6]\n"
     ]
    }
   ],
   "source": [
    "#Numpy sorting array\n",
    "#Descending order\n",
    "arr1=np.array([3,6,4,3,0,2,1])\n",
    "print(np.sort(arr1))"
   ]
  },
  {
   "cell_type": "code",
   "execution_count": 123,
   "id": "73e50851-8ff7-44da-b038-ce4b45677a98",
   "metadata": {},
   "outputs": [
    {
     "name": "stdout",
     "output_type": "stream",
     "text": [
      "[9 8 7 6 5 4 4 3 2 0]\n"
     ]
    }
   ],
   "source": [
    "#Ascending order\n",
    "arr2=np.array([8,6,7,5,4,0,4,3,2,9])\n",
    "print(np.sort(arr2)[::-1])"
   ]
  },
  {
   "cell_type": "code",
   "execution_count": 132,
   "id": "c3da117a-f477-4fac-ac06-1077279c1a55",
   "metadata": {},
   "outputs": [
    {
     "name": "stdout",
     "output_type": "stream",
     "text": [
      "[41 42 45]\n"
     ]
    }
   ],
   "source": [
    "#Numpy filter array\n",
    "arr=np.array([41,42,53,44,45])\n",
    "x=[True,True,False,False,True]\n",
    "newarr=arr[x]\n",
    "print(newarr)"
   ]
  },
  {
   "cell_type": "code",
   "execution_count": 133,
   "id": "8a97e332-a952-4600-ad78-371b994e60b3",
   "metadata": {},
   "outputs": [],
   "source": [
    "#Creating the filter array\n",
    "arr=np.array([51,52,53,54])"
   ]
  },
  {
   "cell_type": "code",
   "execution_count": 165,
   "id": "75a817ae-5ae9-4015-a8dd-64d044ce2e12",
   "metadata": {},
   "outputs": [],
   "source": [
    "#create an empty list\n",
    "filter__arr=[]"
   ]
  },
  {
   "cell_type": "code",
   "execution_count": 170,
   "id": "d6ed332b-cc12-4c3c-a118-9878e47887d3",
   "metadata": {},
   "outputs": [
    {
     "ename": "NameError",
     "evalue": "name 'Filter__arr' is not defined",
     "output_type": "error",
     "traceback": [
      "\u001b[1;31m---------------------------------------------------------------------------\u001b[0m",
      "\u001b[1;31mNameError\u001b[0m                                 Traceback (most recent call last)",
      "Cell \u001b[1;32mIn[170], line 4\u001b[0m\n\u001b[0;32m      1\u001b[0m \u001b[38;5;66;03m#go through each element in arr\u001b[39;00m\n\u001b[0;32m      3\u001b[0m \u001b[38;5;28;01mif\u001b[39;00m element\u001b[38;5;241m>\u001b[39m\u001b[38;5;241m42\u001b[39m:\n\u001b[1;32m----> 4\u001b[0m     Filter__arr\u001b[38;5;241m.\u001b[39mappend(\u001b[38;5;28;01mTrue\u001b[39;00m)\n\u001b[0;32m      5\u001b[0m \u001b[38;5;28;01melse\u001b[39;00m:\n\u001b[0;32m      6\u001b[0m     Filter__arr\u001b[38;5;241m.\u001b[39mappend(\u001b[38;5;28;01mFalse\u001b[39;00m)\n",
      "\u001b[1;31mNameError\u001b[0m: name 'Filter__arr' is not defined"
     ]
    }
   ],
   "source": [
    "#go through each element in arr\n",
    "\n",
    "if element>42:\n",
    "    Filter__arr.append(True)\n",
    "else:\n",
    "    Filter__arr.append(False)\n",
    "newarr=arr[Filter__arr]\n",
    "print(Filter__arr)\n",
    "print(newarr)"
   ]
  },
  {
   "cell_type": "code",
   "execution_count": 182,
   "id": "114d314c-d698-460d-a649-06e6dc4917e2",
   "metadata": {},
   "outputs": [
    {
     "name": "stdout",
     "output_type": "stream",
     "text": [
      "[50 60 10 20 30]\n",
      "[50 60 90 10]\n",
      "[50 10]\n"
     ]
    }
   ],
   "source": [
    "#Adding and Removing elements\n",
    "arr=np.array([50,60,10])\n",
    "print(np.append(arr,[20,30]))\n",
    "print(np.insert(arr,2,90))\n",
    "print(np.delete(arr,1))"
   ]
  },
  {
   "cell_type": "code",
   "execution_count": 192,
   "id": "79ea992f-a497-44c0-b77a-b57518664a2d",
   "metadata": {},
   "outputs": [
    {
     "name": "stdout",
     "output_type": "stream",
     "text": [
      "140\n",
      "20\n",
      "50\n",
      "[ 20  50  90 140]\n"
     ]
    }
   ],
   "source": [
    "#Aggregating Functions\n",
    "a=np.array([20,30,40,50])\n",
    "print(np.sum(a))\n",
    "print(np.min(a))\n",
    "print(np.max(a))\n",
    "print(np.cumsum(a))"
   ]
  },
  {
   "cell_type": "code",
   "execution_count": 193,
   "id": "98c434e0-0c13-4fdd-bf31-3b9c173f0fa0",
   "metadata": {},
   "outputs": [],
   "source": [
    "#statistical functions\n",
    "import statistics as stats"
   ]
  },
  {
   "cell_type": "code",
   "execution_count": 196,
   "id": "78c5e9a5-32e0-437e-b370-cd70e8745bdb",
   "metadata": {},
   "outputs": [],
   "source": [
    "#stats\n",
    "Food_price=[99,98,97,96,95]\n",
    "a=np.array(Food_price)"
   ]
  },
  {
   "cell_type": "code",
   "execution_count": 199,
   "id": "8386617b-8925-4da8-a9bb-b9fe70e8b919",
   "metadata": {},
   "outputs": [
    {
     "name": "stdout",
     "output_type": "stream",
     "text": [
      "97.0\n"
     ]
    }
   ],
   "source": [
    "#Mean\n",
    "print(np.mean(a))"
   ]
  },
  {
   "cell_type": "code",
   "execution_count": 201,
   "id": "8d4c2279-1727-4f1c-a128-f7569ba840c6",
   "metadata": {},
   "outputs": [
    {
     "name": "stdout",
     "output_type": "stream",
     "text": [
      "97.0\n"
     ]
    }
   ],
   "source": [
    "#median\n",
    "print(np.median(a))"
   ]
  },
  {
   "cell_type": "code",
   "execution_count": 209,
   "id": "27935c3d-2fe8-4119-9499-54df3b08e7e6",
   "metadata": {},
   "outputs": [
    {
     "name": "stdout",
     "output_type": "stream",
     "text": [
      "99\n"
     ]
    }
   ],
   "source": [
    "#mode\n",
    "Food_price=[20,30,40,50,60,70]\n",
    "print(stats.mode(a))"
   ]
  },
  {
   "cell_type": "code",
   "execution_count": null,
   "id": "a9145dd4-9b97-4b18-9c4d-39980a7d3068",
   "metadata": {},
   "outputs": [],
   "source": []
  }
 ],
 "metadata": {
  "kernelspec": {
   "display_name": "Python [conda env:base] *",
   "language": "python",
   "name": "conda-base-py"
  },
  "language_info": {
   "codemirror_mode": {
    "name": "ipython",
    "version": 3
   },
   "file_extension": ".py",
   "mimetype": "text/x-python",
   "name": "python",
   "nbconvert_exporter": "python",
   "pygments_lexer": "ipython3",
   "version": "3.12.7"
  }
 },
 "nbformat": 4,
 "nbformat_minor": 5
}
